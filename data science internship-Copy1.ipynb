{
 "cells": [
  {
   "cell_type": "code",
   "execution_count": 2,
   "metadata": {},
   "outputs": [],
   "source": [
    "import pandas as pd\n",
    "import numpy as np\n",
    "from matplotlib import pyplot as plt\n"
   ]
  },
  {
   "cell_type": "code",
   "execution_count": 6,
   "metadata": {},
   "outputs": [],
   "source": [
    "data=pd.read_csv('election.csv')"
   ]
  },
  {
   "cell_type": "code",
   "execution_count": 50,
   "metadata": {},
   "outputs": [
    {
     "data": {
      "text/plain": [
       "Index(['party', 'constituency', 'name', 'margin', 'state', 'votes', 'color'], dtype='object')"
      ]
     },
     "execution_count": 50,
     "metadata": {},
     "output_type": "execute_result"
    }
   ],
   "source": [
    "#print all columns of data frame\n",
    "data.columns\n"
   ]
  },
  {
   "cell_type": "code",
   "execution_count": 127,
   "metadata": {},
   "outputs": [
    {
     "data": {
      "text/plain": [
       "party                         Shivsena\n",
       "constituency                  shahapur\n",
       "name            ZIRWAL NARHARI SITARAM\n",
       "margin                           89791\n",
       "state                     NCT OF Delhi\n",
       "votes                           150588\n",
       "color                          #FB7B0D\n",
       "dtype: object"
      ]
     },
     "execution_count": 127,
     "metadata": {},
     "output_type": "execute_result"
    }
   ],
   "source": [
    "1#Find the party with highest number of votes\n",
    "data.max()"
   ]
  },
  {
   "cell_type": "code",
   "execution_count": 128,
   "metadata": {},
   "outputs": [
    {
     "data": {
      "text/plain": [
       "party                            AJSU Party\n",
       "constituency                   ADARSH NAGAR\n",
       "name            AABITAKAR PRAKASH ANANDARAO\n",
       "margin                                    3\n",
       "state                                 Bihar\n",
       "votes                                  3936\n",
       "color                                  #000\n",
       "dtype: object"
      ]
     },
     "execution_count": 128,
     "metadata": {},
     "output_type": "execute_result"
    }
   ],
   "source": [
    "2# Find the party with lowest margin\n",
    "data.min()"
   ]
  },
  {
   "cell_type": "code",
   "execution_count": 178,
   "metadata": {},
   "outputs": [
    {
     "data": {
      "text/plain": [
       "party           Bharatiya Janata Party\n",
       "constituency                  Yavatmal\n",
       "name                   YOGESHWAR MAHTO\n",
       "margin                           84095\n",
       "state                     NCT OF Delhi\n",
       "votes                           136384\n",
       "color                          #FB7B0D\n",
       "dtype: object"
      ]
     },
     "execution_count": 178,
     "metadata": {},
     "output_type": "execute_result"
    }
   ],
   "source": [
    "3#Which states Bharatiya Janata Party is dominating\n",
    "data[data['party']=='Bharatiya Janata Party'].max()"
   ]
  },
  {
   "cell_type": "code",
   "execution_count": 196,
   "metadata": {},
   "outputs": [
    {
     "data": {
      "text/plain": [
       "party                         Shivsena\n",
       "constituency                  shahapur\n",
       "name            ZIRWAL NARHARI SITARAM\n",
       "margin                           89791\n",
       "state                      Maharashtra\n",
       "votes                           150588\n",
       "color                          #FB7B0D\n",
       "dtype: object"
      ]
     },
     "execution_count": 196,
     "metadata": {},
     "output_type": "execute_result"
    }
   ],
   "source": [
    "4#Which candidate is has margin in Maharashtra\n",
    "data[data['state']=='Maharashtra'].max()"
   ]
  },
  {
   "cell_type": "code",
   "execution_count": 185,
   "metadata": {},
   "outputs": [
    {
     "data": {
      "text/plain": [
       "array(['Haryana', 'Maharashtra', 'Jammu & Kashmir', 'Jharkhand',\n",
       "       'NCT OF Delhi', 'Bihar'], dtype=object)"
      ]
     },
     "execution_count": 185,
     "metadata": {},
     "output_type": "execute_result"
    }
   ],
   "source": [
    "5#Elections are happening in how many states\n",
    "data['state'].unique()\n"
   ]
  },
  {
   "cell_type": "code",
   "execution_count": 197,
   "metadata": {},
   "outputs": [
    {
     "data": {
      "text/plain": [
       "array(['KULDEEP BISHNOI', 'ANIL VIJ', 'ASEEM GOEL',\n",
       "       'BAKHSHISH  SINGH VIRK', 'SANTOSH YADAV', 'SUKHVINDER',\n",
       "       'SEEMA TRIKHA', 'OM PARKASH DHANKAR', 'NARBIR SINGH',\n",
       "       'NARESH KAUSHIK', 'MOOL CHAND SHARMA', 'SRI KRISHAN', 'VED NARANG',\n",
       "       'DR. BANWARI LAL', 'BISHAMBER SINGH', 'DR.RAGHUVIR SINGH KADIAN',\n",
       "       'GHANSHYAM SARAF', 'NAINA SINGH CHAUTALA', 'RAJDEEP',\n",
       "       'ABHAY SINGH CHAUTALA', 'VIPUL GOEL', 'NAGENDER BHADANA',\n",
       "       'BALWAN SINGH DAULATPURIA', 'NASEEM AHMED', 'KULDIP SHARMA',\n",
       "       'BHUPINDER SINGH HOODA', 'HARVINDER KALYAN', 'JAGBIR SINGH MALIK',\n",
       "       'KULWANT RAM BAZIGAR', 'UMESH AGGARWAL', 'RENUKA BISHNOI',\n",
       "       'KEHAR SINGH', 'DR.KAMAL GUPTA S/O MANPHOOL SINGH', 'UDAI BHAN',\n",
       "       'KARAN DEV KAMBOJ', 'KRISHAN LAL PANWAR',\n",
       "       'KANWAR PAL S/O CHANDAN SINGH', 'GEETA BHUKKAL',\n",
       "       'DR. HARI CHAND MIDDHA', 'PARMINDER SINGH DHULL',\n",
       "       'RANDEEP SINGH SURJEWALA', 'SHAKUNTLA KHATAK', 'BALKAUR SINGH',\n",
       "       'BHAI JAI PARKASH (J.P.)', 'LATIKA SHARMA', 'MANOHAR LAL KHATTAR',\n",
       "       'JAIVEER SINGH', 'BIKRAM SINGH THEKEDAR', 'DR. PAWAN SAINI',\n",
       "       'OM PARKASH BARWA', 'RAM  BILASH  SHARMA', 'ANAND SINGH DANGI',\n",
       "       'SANTOSH CHAUHAN SARWAN', 'RANBIR GANGWA', 'ABHE SINGH YADAV',\n",
       "       'NAYAB SINGH', 'OM PRAKASH', 'CAPTAIN ABHIMANYU', 'PIRTHI SINGH',\n",
       "       'BHAGWAN DASS KABIR PANTHI', 'ZAKIR HUSSAIN', 'KARAN SINGH DALAL',\n",
       "       'GIAN CHAND GUPTA', 'ROHITA REWRI', 'MAHIPAL DHANDA',\n",
       "       'BIMLA CHAUDHARY', 'JASWINDER SINGH SANDHU', 'TEK CHAND SHARMA',\n",
       "       'RAHISH KHAN', 'DINESH KAUSHIK', 'SHYAM SINGH', 'JAI TIRATH',\n",
       "       'RAM CHAND KAMBOJ', 'PROF. RAVINDER BALIALA',\n",
       "       'RANDHIR SINGH KAPRIWAS', 'MANISH KUMAR GROVER', 'BALWANT SINGH',\n",
       "       'JASBIR DESWAL', 'RAVINDER MACHHROULI', 'KRISHAN KUMAR',\n",
       "       'MAKHAN LAL SINGLA', 'TEJPAL TAWAR', 'KAVITA JAIN',\n",
       "       'SUBHASH SUDHA', 'LALIT NAGAR', 'SUBHASH BARALA', 'KIRAN CHOUDHRY',\n",
       "       'PREM LATA', 'ANOOP DHANAK', 'GHANSHYAM DASS',\n",
       "       'BACCHU ALIAS OMPRAKASH BABARAO KADU',\n",
       "       'AMBRISHRAO RAJE SATYAVANRAO ATRAM',\n",
       "       'JADHAV PATIL VINAYAKRAO KISHANRAO', 'SANGRAM ARUNKAKA JAGTAP',\n",
       "       'SANDEEP GANESH NAIK', 'SIDDHARAM  SATLINGAPPA MHETRE',\n",
       "       'PADAVI ADV. K.C.', 'SAVARKAR RANDHIR PRALHADRAO',\n",
       "       'GOVARDHAN MANGILAL SHARMA', 'PICHAD VAIBHAV MADHUKAR',\n",
       "       'BHARSAKLE PRAKASH GUNVANTRAO', 'SUBHASH ALIAS PANDITSHET PATIL',\n",
       "       'SHIRISHDADA HIRALAL CHAUDHARI', 'DILIP DATTATRAY WALSE PATIL',\n",
       "       'DR. BALAJI KINIKAR', 'PURAM SANJAY HANWANTRAO',\n",
       "       'DR. DESHMUKH SUNIL PANJABRAO', 'RAMESH LATKE',\n",
       "       'AMEET BHASKAR SATAM', 'TUKARAM RAMKRISHNA KATE',\n",
       "       'BADOLE RAJKUMAR SUDAMJI', 'KRUSHNA DAMAJI GAJBE',\n",
       "       'RAJU NARAYAN TODSAM', 'AMAR SHARADRAO KALE',\n",
       "       'DHONDE BHIMRAO ANANDRAO', 'SAYED IMTIAZ JALIL',\n",
       "       'ATUL MORESHWAR SAVE', 'SANJAY SHIRSAT',\n",
       "       'BASAVRAJ MADHAVRAO PATIL', 'KUCHE NARAYAN TILAKCHAND',\n",
       "       'RAVI RANA', 'CHAVAN DIPIKA SANJAY', 'BALIRAM BHAGWAN SIRSKAR',\n",
       "       'MUNGANTIWAR SUDHIR SACHHIDANAND', 'AJIT ANANTRAO PAWAR',\n",
       "       'DILIP GANGADHAR SOPAL', 'MUNDADA JAIPRAKASH SHANKARLAL',\n",
       "       'KSHIRSAGER JAYDATTJI SONAJIRAO', 'MANDA VIJAY MHATRE',\n",
       "       'AVSARE RAMCHANDRA PUNAJI', 'ASHOK PATIL', 'RUPESH LAXMAN MHATRE',\n",
       "       'SHANTARAM TUKARAM MORE', 'CHOUGHULE MAHESH PRABHAKAR',\n",
       "       'AMEETA ASHOKRAO CHAVAN', 'DANAVE SANTOSH RAOSAHEB',\n",
       "       'SANGRAM ANANTRAO THOPATE', 'MAHESH (DADA) KISAN LANDGE',\n",
       "       'SAWAKARE SANJAY WAMAN', 'TARE VILAS SUKUR', 'VINOD TAWDE',\n",
       "       'WADETTIWAR VIJAY NAMDEVRAO', 'HARSHWARDHAN VASANTRAO SAPKAL',\n",
       "       'ADVOCATE  WARIS YUSUF PATHAN', 'UNMESH BHAIYYASAHEB PATIL',\n",
       "       'DESAI-KUPAKAR SANDHYADEVI KRUSHNARAO', 'KHAN MOHD. ARIF (NASEEM)',\n",
       "       'SHAMKULE NANAJI SITARAM', 'DR. AHER RAHUL DAULTRAO',\n",
       "       'YOGESH SAGAR', 'PRAKASH VAIKUNTH PHATERPEKAR',\n",
       "       'RAHUL SIDDHAVINAYAK BONDRE', 'BANTI BHANGDIYA',\n",
       "       'JAGTAP LAXMAN PANDURANG', 'CHAVAN SADANAND NARAYAN',\n",
       "       'SONAWANE CHANDRAKANT BALIRAM', 'RAJ K.PUROHIT',\n",
       "       'DHANARE PASKAL JANYA', 'CHAUDHARY MANISHA ASHOK',\n",
       "       'KADAM SANJAY VASANT', 'RAMESH GANPATRAO BUNDILE',\n",
       "       'KUL RAHUL SUBHASHRAO', 'SABNE SUBHASH PIRAJI',\n",
       "       'KAMBLE RANJIT PRATAPRAO', 'GHOLAP YOGESH(BAPU) BABANRAO',\n",
       "       'JAGTAP VIRENDRA WALMIK', 'GAIKWAD VARSHA EKNATH',\n",
       "       'ANIL ANNA GOTE', 'KUNAL (BABA) ROHIDAS PATIL',\n",
       "       'RATHOD SANJAY DULICHAND', 'ZIRWAL NARHARI SITARAM',\n",
       "       'SUNIL PRABHU', 'CHAVHAN RAVINDRA DATTATRAY',\n",
       "       'ANNASAHEB DR. SATISH BHASKARRAO PATIL', 'DR. DEORAO MADGUJI HOLI',\n",
       "       'MADHUSUDAN MANIKRAO KENDRE', 'BAMB PRASHANT BANSILAL',\n",
       "       'PAWAR LAXMAN MADHAVRO', 'RAJESHBHAIYYA TOPE',\n",
       "       'MEHTA PRAKASH MANCHHUBHAI', 'RAM  KADAM',\n",
       "       'AGRAWAL GOPALDAS SHANKARLAL', 'VIDYA THAKUR',\n",
       "       'JADHAV BHASKAR BHAURAO', 'TILEKAR YOGESH KUNDALIK',\n",
       "       'ASHTIKAR PATIL NAGESH BAPURAO', 'DR. MINCHEKAR SUJIT VASANTRAO',\n",
       "       'KUNAWAR SAMIR TRAMBAKRAO', 'MEGHE SAMEER DATTATRAYA',\n",
       "       'MUTKULE TANHAJI SAKHARAMJI', 'SURESH GANPATI HALVANKAR',\n",
       "       'GAVEET NIRMALA RAMESH', 'DATTATRAY VITHOBA BHARNE',\n",
       "       'JAYANT RAJARAM PATIL', 'KUTE DR. SANJAY SHRIRAM',\n",
       "       'SURESH DAMU BHOLE (RAJUMAMA)', 'PATIL GULAB RAGHUNATH',\n",
       "       'ARJUN PANDITRAO KHOTKAR', 'GIRISH DATTATRAY MAHAJAN',\n",
       "       'JAGTAP VILASRAV NARAYAN', 'BHAMALE VIJAY MANIKRAO',\n",
       "       'RAVINDRA DATTARAM WAIKAR', 'SHARADDADA BHIMAJI SONAVANE',\n",
       "       'MUSHRIF HASAN MIYALAL', 'THOMBRE SANGEETA VIJAYPRAKASH',\n",
       "       'TARFE SANTOSH KAUTIKA', 'SANJAY  GOVIND POTNIS',\n",
       "       'GAVIT JIVA PANDU', 'GANPAT KALU GAIKWAD', 'BHOIR SUBHASH GANU',\n",
       "       'NARENDRA BABURAO PAWAR', 'CHANDRASHEKHAR KRUSHNRAO BAWANKULE',\n",
       "       'ATUL BHATKHALKAR', 'NITESH NARAYAN RANE',\n",
       "       'JADHAV HARSHVARDHAN RAIBHAN',\n",
       "       'PATIL SHAMRAO ALIAS BALASO PANDURANG',\n",
       "       'CHAVAN PRITHVIRAJ DAJISAHEB', 'PATNI RAJENDRA SUKHANAND',\n",
       "       'SURESHBHAU NARAYAN LAD', 'PRO. RAM SHANKAR SHINDE',\n",
       "       'PATIL NARAYAN GOVINDRAO', 'NARKE CHANDRADIP SHASHIKANT',\n",
       "       'BAPAT GIRISH BHALCHANDRA', 'DR ASHISH DESHMUKH',\n",
       "       'TAPKIR BHIMRAO DHONDIBA', 'AKASH PANDURANG FUNDKAR',\n",
       "       'ANILBHAU BABAR', 'GORE SURESH NAMDEO', 'JADHAV PRADEEP NAIK',\n",
       "       'RAJESH VINAYAKRAO KSHIRSAGAR', 'AMAL MAHADIK',\n",
       "       'KOLHE SNEHALATA BIPINDADA', 'EKNATH SAMBHAJI SHINDE',\n",
       "       'SHINDE SHASHIKANT JAYWANTRAO', 'KULKARNI MEDHA VISHRAM',\n",
       "       'NAIK VAIBHAV VIJAY', 'MANGESH  KUDALKAR',\n",
       "       'AMIT VILASRAO DESHMUKH', 'BHISE TRIMBAKRAO SHRIRANGRAO',\n",
       "       'CHIKHALIKAR PRATAPRAO GOVINDRAO', 'SHINDE BABANRAO VITTHALRAO',\n",
       "       'PRAKASH SURVE', 'GOGAWALE BHARAT MARUTI', 'SADA SARVANKAR',\n",
       "       'R.T.DESHMUKH (JIJA)', 'MANGAL PRABHAT  LODHA', 'ASLAM SHAIKH',\n",
       "       'SHAIKH AASIF SHAIKH RASHID', 'BHUSE DADAJI DAGDU',\n",
       "       'CHAINSUKH MADANLAL SANCHETI', 'DOLAS HANUMANT JAGANNATH',\n",
       "       'JAYKUMAR BHAGWANRAO GORE', 'ABU ASIM AZMI',\n",
       "       'BHEGADE SANJAY (BALA) VISHWANATH', 'SANJAY BHASHKAR RAIMULKAR',\n",
       "       'BHILAWEKAR PRABHDAS BABULAL', 'NARENDRA MEHTA',\n",
       "       'KHADE SURESH(BHAU) DAGADU', 'RAMESH NAGNATH KADAM',\n",
       "       'DR. ANIL SUKHDEVRAO BONDE', 'GOVIND MUKKAJI RATHOD',\n",
       "       'KHADSE EKNATHRAO GANPATRAO', 'SARDAR TARA SINGH', 'AMIN PATEL',\n",
       "       'AWHAD JITENDRA SATISH', 'KISAN SHANKAR KATHORE',\n",
       "       'HARISH MAROTIAPPA PIMPLE', 'KUMBHARE VIKAS SHANKARRAO',\n",
       "       'KHOPDE KRISHNA PANCHAM', 'DR. MILIND MANE',\n",
       "       'KOHALE SUDHAKAR VITTHALRAO', 'DEVENDRA GANGADHAR FADNAVIS',\n",
       "       'DESHMUKH SUDHAKAR SHAMRAO', 'CHAVAN VASANTRAO BALWANTRAO',\n",
       "       'KSHITIJ HITENDRA THAKUR', 'D.P.SAWANT', 'HEMANT SRIRAM PATIL',\n",
       "       'PANKAJ CHHAGAN BHUJBAL', 'GAVIT VIJAYKUMAR KRUSHNARAO',\n",
       "       'FARANDE DEVAYANI SUHAS', 'BALASAHEB MAHADU SANAP',\n",
       "       'HIRAY SEEMA MAHESH (SEEMATAI)', 'NAIK SURUPSING HIRYA',\n",
       "       'BALASAHEB ALIAS DADASAHEB DAMODHAR MURKUTE',\n",
       "       'NILANGEKAR SAMBHAJI DEELIPRAO PATIL', 'ANIL SAHEBRAO KADAM',\n",
       "       'RANA JAGJIT SINHA PADMA SINHA  PATIL', 'PRATAP BABURAO SARNAIK',\n",
       "       'KISHOR APPA PATIL', 'BHUMRE SANDIPANRAO AASARAM',\n",
       "       'GHODA KRUSHNA ARJUN', 'DR. KADAM PATANGRAO SHRIPATRAO',\n",
       "       'BHALAKE BHARAT TUKARAM', 'PRASHANT RAMSHETH THAKUR',\n",
       "       'MOTE RAHUL MAHARUDRA', 'DR.RAHUL VEDPRAKASH PATIL',\n",
       "       'MUNDE PANKAJA GOPINATHRAO', 'AUTI VIJAYRAO BHASKARRAO',\n",
       "       'BABANRAO DATTATRAY YADAV LONIKAR', 'MISAL MADHURI SATISH',\n",
       "       'DESAI SHAMBHURAJ SHIVAJIRAO', 'FAD MOHAN MADHAVRAO',\n",
       "       'DHAIRYASHEEL MOHAN PATIL', 'CHAVAN DIPAK PRALHAD',\n",
       "       'BAGDE HARIBHAU KISANRAO', 'ADV. CHABUKSWAR GAUTAM SUKHDEO',\n",
       "       'DILIP KAMBLE', 'VIJAYBAPU SHIVTARE', 'NAIK MANOHAR RAJUSING',\n",
       "       'AABITAKAR PRAKASH ANANDARAO', 'KARDILE SHIVAJI BHANUDAS',\n",
       "       'SALVI RAJAN PRABHAKAR', 'SANJAY YADAORAO DHOTE',\n",
       "       'PRO. DR. ASHOK RAMAJI WOOIKE',\n",
       "       'REDDY DWARAM MALLIKARJUN RAMREDDY', 'UDAY RAVINDRA SAMANT',\n",
       "       'HARIBHAU MADHAV JAWALE', 'AMEET SUBHASHRAO ZANAK',\n",
       "       'KASHIWAR RAJESH LAHANU', 'AHIRE DHANAJI SITARAM OR D.S.AHIRE',\n",
       "       'VIJAY ALIAS BALASAHEB BHAUSAHEB THORAT',\n",
       "       'DHANANJAY ALIAS SUDHIR DADA  HARI GADGIL',\n",
       "       'DESHMUKH GANPATRAO  ANNASAHEB', 'BHONSLE SHIVENDRASINH ABHAYSINH',\n",
       "       'KEDAR SUNIL CHHATRAPAL', 'DEEPAK VASANT KESARKAR',\n",
       "       'PADVI UDESING KOCHARU', 'BARORA PANDURANG MAHADU',\n",
       "       'SATYAJEET BABASAHEB PATIL (ABA) SARUDKAR', 'MONIKA RAJIV RAJALE',\n",
       "       'NAIK SHIVAJIRAO YASHWANTRAO',\n",
       "       'RADHAKRISHNA EKNATHRAO VIKHE PATIL', 'PATIL ULHAS SAMBHAJI',\n",
       "       'KASHIRAM VECHAN PAWARA', 'PACHARNE BABURAO KASHINATH',\n",
       "       'AJAY CHOUDHARI', 'VIJAY KALE', 'JAGTAP RAHUL KUNDLIKRAO',\n",
       "       'BHAUSAHEB MALHARI KAMBLE', 'AVDHOOT ANIL TATKARE',\n",
       "       'ABDUL SATTAR ABDUL NABI', 'DR. KHEDEKAR SHASHIKANT NARSINGRAO',\n",
       "       'JAYKUMAR JITENDRASINH RAWAL', 'RAJABHAU (PARAG) PRAKASH WAJE',\n",
       "       'CAPTAIN R. TAMIL SELVAN', 'SHINDE PRANITI SUSHILKUMAR',\n",
       "       'VIJAY SIDRAMAPPA DESHMUKH', 'DESHMUKH SUBHASH SURESHCHANDRA',\n",
       "       'ADV.R.R. (AABA) ALIAS RAVSAHEB RAMRAO PATIL',\n",
       "       'ADV. YASHOMATI THAKUR (SONAWANE)', 'KELKAR SANJAY MUKUND',\n",
       "       'RAHANGDALE VIJAY BHARATLAL', 'CHAVAN MADHUKARRAO DEORAO',\n",
       "       'WAGHAMARE CHARAN SOVINDA', 'SUDHAKAR SANGRAM BHALERAO',\n",
       "       'JYOTI PAPPU KALANI', 'CHOUGULE DNYANRAJ DHONDIRAM',\n",
       "       'RAJENDRA WAMAN NAJARDHANE', 'PARWE SUDHIR LAXMAN',\n",
       "       'MANOHAR GAJANAN BHOIR', 'JAGDISH TUKARAM MULUK',\n",
       "       'BHAUSAHEB PATIL CHIKATGAONKAR', 'PRAKASH (BALA) SAWANT',\n",
       "       'AV. ASHISH SHELAR', 'HITENDRA VISHNU THAKUR',\n",
       "       'DR. BHARATI HEMANT LAVEKAR', 'SUNIL RAJARAM RAUT',\n",
       "       'SAVARA VISHNU RAMA', 'PARAG ALAVANI',\n",
       "       'KALIDAS NILKANTH KOLAMBKAR', 'JADHAV (PATIL) MAKRAND LAXMANRAO',\n",
       "       'BODKURWAR SANJIVREDDI BAPURAO', 'DR.PANKAJ RAJESH BHOYAR',\n",
       "       'SURESH ALIAS BALUBHAU NARAYAN DHANORKAR', 'MALIK LAKHAN SAHADEV',\n",
       "       'SUNIL GOVIND SHINDE', 'MADAN MADHUKARRAO YERAWAR',\n",
       "       'CHHAGAN BHUJBAL', 'RAJA MANZOOR AHMAD', 'BASHIR AHMAD DAR',\n",
       "       'ABDUL HAQ KHAN', 'SAJAD GANI LONE', 'ABDUL RASHID SHEIKH',\n",
       "       'MOHAMMAD SHAFI', 'YAWAR AHMAD MIR', 'ABDUL RASHID DAR',\n",
       "       'NAZIR AHMAD KHAN', 'USMAN ABDUL MAJID', 'MOHAMMAD AKBAR LONE',\n",
       "       'SYED BASHARAT AHMED BUKHARI', 'JAVID HASSAN BAIG',\n",
       "       'MOHD. ABASS WANI', 'IMRAN RAZA ANSARI', 'ALTAF AHMAD',\n",
       "       'ISHFAQ AHMAD SHEIKH', 'ASIEA', 'ABID HUSSAIN ANSARI',\n",
       "       'MUBARIK AHMAD GUL', 'ALI MOHD SAGAR', 'SHAMIM FIRDOUS',\n",
       "       'SYED MOHAMMAD ALTAF BUKHARI', 'MOHAMMAD ASHRAF MIR',\n",
       "       'NOOR MOHD SHEIKH', 'JAVAID MUSTAFA MIR',\n",
       "       'AGA SYED RUHULLAH MEHDI', 'OMAR ABDULLAH',\n",
       "       'HAKEEM MOHAMMAD YASEEN SHAH', 'GHULAM NABI LONE',\n",
       "       'MUSHTAQ AHMAD SHAH', 'ZAHOOR AHMAD MIR', 'MOHD. KHALIL BAND',\n",
       "       'HASEEB  A DRABU', 'AIJAZ AHMAD MIR', 'MOHD YOUSUF BHAT',\n",
       "       'ABDUL MAJID PADDER', 'MOHAMAD YOUSUF TARIGAMI', 'AB. MAJEED',\n",
       "       'MUFTI MOHD SAYEED', 'MOHAMMAD AMIN BHAT',\n",
       "       'SYED FAROOQ AHMAD ANDRABI', 'ABDUL RAHIM RATHER',\n",
       "       'GULZAR AHMAD WANI', 'ABDUL REHMAN BHAT', 'ALTAF AHMAD WANI',\n",
       "       'DELDAN NAMGAIL', 'NAWANG RIGZIN', 'ASGAR ALI KARBALAIE',\n",
       "       'SYED MOHAMMAD BAQIR RIZVI', 'SUNIL KUMAR SHARMA',\n",
       "       'GHULAM MOHD SAROORI', 'SHAKTI RAJ', 'DALEEP SINGH',\n",
       "       'NEELAM KUMAR LANGEH', 'VIKAR RASOOL WANI', 'MUMTAZ AHMED',\n",
       "       'AJAY NANDA', 'AJAZ AHMED KHAN', 'PAWAN KUMAR GUPTA', 'DINA NATH',\n",
       "       'RANBIR SINGH PATHANIA', 'JEWAN LAL', 'LAL SINGH',\n",
       "       'RAJIV JASROTIA', 'DR. NIRMAL KUMAR SINGH', 'KULDEEP RAJ',\n",
       "       'DEVINDER KUMAR MANYAL', 'CHANDER PARKASH', 'DEVENDER SINGH RANA',\n",
       "       'KAVINDER GUPTA', 'RAJESH GUPTA', 'SAT PAUL SHARMA', 'KAMAL VERMA',\n",
       "       'DR. GAGAN BHAGAT', 'SHAM LAL CHOUDHARY', 'SUKHNANDAN KUMAR',\n",
       "       'BALI BHAGAT', 'RAJEEV SHARMA', 'DR. KIRSHAN LAL',\n",
       "       'RAVINDER RAINA', 'CHOWDHARY ZULFKAR ALI', 'QAMAR HUSSAIN',\n",
       "       'ABDUL GHANI KOHLI', 'CH MOHD AKRAM', 'JAVED AHMED RANA',\n",
       "       'SHAH MOHD TANTRAY', 'ANANT KUMAR OJHA', 'TALA MARANDI',\n",
       "       'HEMANT SOREN', 'DR. ANIL MURMU', 'ALAMGIR ALAM',\n",
       "       'STEPHEN MARANDI', 'NALIN SOREN', 'RABINDRA NATH MAHATO',\n",
       "       'IRFAN ANSARI', 'LOIS MARANDI', 'SITA MURMU ALIAS SITA SOREN',\n",
       "       'BADAL', 'RAJ PALIWAR', 'RANDHIR KUMAR SINGH', 'NARAYAN DAS',\n",
       "       'PRADIP YADAV', 'RAGHU NANDAN MANDAL', 'ASHOK KUMAR',\n",
       "       'DR. NEERA YADAV', 'JANKI PRASAD YADAV', 'MANOJ KUMAR YADAV',\n",
       "       'NIRMALA DEVI', 'CHANDRA PRAKASH CHOUDHARY',\n",
       "       'JAI PRAKASH BHAI PATEL', 'MANISH JAISWAL', 'GANESH GANJHU',\n",
       "       'JAY PRAKASH SINGH BHOGTA', 'RAJ KUMAR YADAW', 'NAGENDRA MAHTO',\n",
       "       'KEDAR HAZRA', 'JAI PRAKASH VERMA', 'NIRBHAY KUMAR SHAHABADI',\n",
       "       'JAGARNATH MAHTO', 'YOGENDRA PRASAD', 'YOGESHWAR MAHTO',\n",
       "       'BIRANCHI NARAYAN', 'AMAR KUMAR BAURI', 'FULCHAND MANDAL',\n",
       "       'ARUP CHATTERJEE', 'RAJ SINHA', 'SANJEEV SINGH',\n",
       "       'RAJ KISHORE MAHATO', 'DULU MAHTO', 'KUNAL SHARANGI',\n",
       "       'LAKSHMAN TUDU', 'MENAKA SARDAR', 'RAM CHANDRA SAHIS',\n",
       "       'RAGHUBAR DAS', 'SARYU ROY', 'SADHU CHARAN MAHATO',\n",
       "       'CHAMPAI SOREN', 'DEEPAK BIRUA', 'NIRAL PURTY', 'GEETA KORA',\n",
       "       'JOBA MAJHI', 'SHASHIBHUSHAN SAMAD', 'DASHRATH GAGRAI',\n",
       "       'VIKASH KUMAR MUNDA', 'PAULUS SURIN', 'NILKANTH SINGH MUNDA',\n",
       "       'AMIT KUMAR', 'RAMKUMAR PAHAN', 'CHANDRESHWAR PRASAD SINGH',\n",
       "       'NAVIN JAISWAL', 'DR. JITU CHARAN RAM', 'GANGOTRI KUJUR',\n",
       "       'DINESH ORAON', 'SHIVSHANKAR ORAON', 'CHAMRA LINDA',\n",
       "       'VIMLA PRADHAN', 'ANOSH EKKA', 'KAMAL KISHORE BHAGAT',\n",
       "       'HARIKRISHN SINGH', 'PRAKASH RAM', 'BIDESH SINGH',\n",
       "       'ALOK KR. CHAURASIYA', 'RAMCHANDRA CHANDRAVANSHI',\n",
       "       'RADHA KRISHNA KISHORE', 'KUSHWAHA SHIVPUJAN MEHTA',\n",
       "       'SATYENDRA NATH TIWARI', 'BHANU PRATAP SHAHI', 'SHARAD KUMAR',\n",
       "       'SANJEEV JHA', 'PANKAJ PUSHKAR', 'PAWAN KUMAR SHARMA',\n",
       "       'AJESH YADAV', 'MOHINDER GOYAL', 'VED PARKASH', 'SUKHVIR SINGH',\n",
       "       'RITURAJ GOVIND', 'SANDEEP KUMAR', 'RAGHUVINDER SHOKEEN',\n",
       "       'RAKHI BIRLA', 'VIJENDER KUMAR', 'BANDANA KUMARI',\n",
       "       'SATYENDAR JAIN', 'JITENDER SINGH TOMAR', 'AKHILESH PATI TRIPATHI',\n",
       "       'SOM DUTT', 'ALKA  LAMBA', 'ASIM AHMED KHAN', 'IMRAN HUSSAIN',\n",
       "       'VISHESH RAVI', 'HAZARI LAL CHAUHAN', 'SHIV CHARAN GOEL',\n",
       "       'GIRISH SONI', 'JARNAIL SINGH', 'JAGDEEP SINGH', 'RAJESH RISHI',\n",
       "       'MAHINDER YADAV', 'NARESH BALYAN', 'ADARSH SHASTRI', 'GULAB SINGH',\n",
       "       'KAILASH GAHLOT', 'COL DEVINDER SEHRAWAT', 'BHAVNA GAUR',\n",
       "       'SURENDER SINGH', 'VIJENDER GARG VIJAY', 'ARVIND KEJRIWAL',\n",
       "       'PRAVEEN KUMAR', 'MADAN LAL', 'SOMNATH BHARTI', 'PARMILA TOKAS',\n",
       "       'NARESH YADAV', 'KARTAR SINGH TANWAR', 'PRAKASH', 'AJAY DUTT',\n",
       "       'DINESH MOHANIYA', 'SAURABH BHARADWAJ', 'AVTAR SINGH KALKAJI',\n",
       "       'SAHI RAM', 'NARAYAN DUTT SHARMA', 'AMANATULLAH KHAN',\n",
       "       'RAJU DHINGAN', 'MANOJ KUMAR', 'MANISH SISODIA', 'NITIN TYAGI',\n",
       "       'OM PRAKASH SHARMA', 'S K BAGGA  ADVOCATE', 'ANIL KUMAR BAJPAI',\n",
       "       'RAM NIWAS GOEL', 'RAJENDRA PAL GAUTAM', 'SARITA SINGH',\n",
       "       'MOHD. ISHRAQUE', 'SHRI DUTT SHARMA', 'GOPAL RAI', 'FATEH SINGH',\n",
       "       'JAGDISH PRADHAN', 'KAPIL MISHRA', 'PRABHUNATH PRASAD',\n",
       "       'NARENDRA NARAYAN YADAV', 'CHANDAN KUMAR', 'ABDUL BARI SIDDIQUI',\n",
       "       'JANARDAN MANJHI', 'SHATRUDHAN TIWARY', 'ABDUL JALIL MASTAN',\n",
       "       'AVIDUR RAHMAN', 'MOHAMMAD NAWAZ ALAM', 'RAVINDRA SINGH',\n",
       "       'JITENDRA KUMAR', 'KUNTI DEVI', 'SURENDRA KUMAR',\n",
       "       'ANAND SHANKAR SINGH', 'KAPIL DEO KAMAT', 'RAMDEO RAI',\n",
       "       'RAGHAW SHARAN PANDEY', 'M.D. TAUSEEF ALAM', 'BHOLA YADAV',\n",
       "       'MITHILESH TIWARI', 'ABDUS SUBHAN', 'DR. RANJU GEETA',\n",
       "       'UPENDRA PASWAN', 'RANVIJAY SINGH', 'MAHBOOB ALAM',\n",
       "       'KEDAR NATH SINGH', 'RAM NARAYAN MANDAL', 'NITIN NAVEEN',\n",
       "       'KRISHNA KUMAR RISHI', 'SAMTA DEVI', 'NEERAJ KUMAR',\n",
       "       'MD NEMATULLAH', 'SUDARSHAN KUMAR', 'GYANENDRA KUMAR SINGH',\n",
       "       'SAROJ YADAV', 'SHYAM BAHADUR SINGH', 'NAND KUMAR RAI',\n",
       "       'DINKAR RAM', 'AMITA BHUSHAN', 'SURENDRA PRASAD YADAV',\n",
       "       'PANNA LAL SINGH PATEL', 'GIRIDHARI YADAV', 'SUNITA SINGH CHAUHAN',\n",
       "       'BHAWANA JHA', 'SUNIL CHOUDHARY', 'MADAN MOHAN TIWARI',\n",
       "       'ANAND BHUSHAN PANDEY', 'AJEET SHARMA', 'ANIL KUMAR',\n",
       "       'RAM BALAK SINGH', 'NIRANJAN KUMAR MEHTA', 'DR.SUNIL KUMAR',\n",
       "       'VARSHA RANI', 'SIDDHARTH', 'FAIYAZ AHMAD', 'BEBY KUMARI',\n",
       "       'KUMAR SARVJEET', 'SHAMBHU NATH YADAV',\n",
       "       'SANJAY KUMAR TIWARI ALIAS MUNNA TIWARI', 'BRIJ KISHOR BIND',\n",
       "       'SAVITRI DEVI', 'PRAKASH RAI', 'DR. C.N. GUPTA', 'LALAN PASWAN',\n",
       "       'KUMARI MANJU VERMA', 'NIRAJ KUMAR SINGH', 'LAL BABU PRASAD GUPTA',\n",
       "       'ASHA DEVI', 'SATYADEO RAM', 'KAVITA SINGH', 'SANJAY SARAOGI',\n",
       "       'LALIT KUMAR YADAV', 'MOHAMMAD ILIYAS HUSSAIN', 'FAISAL RAHMAN',\n",
       "       'LESHI SINGH', 'MANISH KUMAR', 'SANJIV CHAURASIA',\n",
       "       'JAI KUMAR SINGH', 'DADAN YADAV', 'MANORANJAN SINGH',\n",
       "       'DR. RAMA NAND YADAV', 'VIDYA SAGAR KESHRI',\n",
       "       'MAHESHWAR PRASAD YADAV', 'MUNESHWAR CHAUDHARY', 'MADAN SAHNI',\n",
       "       'PREM KUMAR', 'KRISHAN NANDAN PRASAD VERMA', 'PURNIMA YADAV',\n",
       "       'SUBASH SINGH', 'NARENDRA KUMAR NIRAJ', 'SATYADEO PRASAD SINGH',\n",
       "       'RAJU TIWARI', 'RAJIV NANDAN', 'AWADHESH SINGH', 'BASANT KUMAR',\n",
       "       'HARI NARAYAN SINGH', 'RAJENDRA KUMAR', 'RAJ KUMAR RAY',\n",
       "       'RAMSEWAK SINGH', 'AMAR NATH GAMI',\n",
       "       'ATRI MUNI URPH SHAKTI SINGH YADAV', 'ANIL SINGH',\n",
       "       'JITAN RAM MANJHI', 'CHANDRASEN PRASAD', 'RAM VISHUN SINGH',\n",
       "       'MUNDRIKA SINGH YADAV', 'JIBESH KUMAR', 'SHAILESH KUMAR',\n",
       "       'VIJAY PRAKASH', 'RABINDRA YADAV', 'GULAB YADAV', 'SARFRAZ ALAM',\n",
       "       'SHAKEEL AHMAD KHAN', 'SADANAND SINGH', 'SACHINDRA PRASAD SINGH',\n",
       "       'MAHESHWAR HAZARI', 'ASHOK KUMAR CHOUDHARY (SADATPUR)',\n",
       "       'SANJAY KUMAR SINGH', 'BASHISHT SINGH', 'MD. AFAQUE ALAM',\n",
       "       'TARKISHORE PRASAD', 'SWEETY SIMA HEMBRAM', 'FARAZ FATMI',\n",
       "       'DR. RAJESH KUMAR', 'POONAM DEVI YADAV', 'SITARAM YADAV',\n",
       "       'DR MOHAMMAD JAWAID', 'MUJAHID ALAM',\n",
       "       'PUNAM KUMARI ALIAS PUNAM PASWAN', 'AMRENDRA KUMAR PANDEY',\n",
       "       'ARUN KUMAR SINHA', 'KEDAR PRASAD GUPTA', 'SATYADEO SINGH',\n",
       "       'SHASHI BHUSAN HAZARI', 'RAJESH KUMAR', 'VIJAY KUMAR SINHA',\n",
       "       'RAJ KUMAR SAH', 'LAKSHMESHWAR ROY', 'VINAY BIHARI',\n",
       "       'CHANDRA SHEKHAR', 'RANA RANDHIR', 'SAMIR KUMAR MAHASETH',\n",
       "       'HEM NARAYAN SAH', 'DR. ABDUL GHAFOOR', 'UMESH SINGH KUSHWAHA',\n",
       "       'TEJ PRATAP YADAV', 'SUBEDAR DAS', 'BHAI VIRENDRA',\n",
       "       'MANOHAR PRASAD SINGH', 'VIJAY SHANKER DUBEY',\n",
       "       'JEETENDRA KUMAR RAI', 'REKHA DEVI (VILL- PABHEDA)',\n",
       "       'NARENDRA KUMAR SINGH ALIAS BOGO SINGH',\n",
       "       'RAJEEV KUMAR URF MUNNA YADAV', 'NIRANJAN RAM', 'EJYA YADAV',\n",
       "       'ANANT KUMAR SINGH', 'VIDYA SAGAR SINGH NISHAD', 'PRAMOD KUMAR',\n",
       "       \"VIJAY KUMAR 'VIJAY'\", 'SURESH KUMAR SHARMA',\n",
       "       'VIRENDRA KUMAR SINGH', 'SHRAWON KUMAR', 'SHAMIM AHMAD',\n",
       "       'VINAY VARMA', 'ANIL KUMAR YADAV', 'AJAY KUMAR MANDAL',\n",
       "       'NARAYAN PRASAD', 'RAJBALLABH PRASAD', 'ANIRUDH PRASAD YADAV',\n",
       "       'ANITA DEVI', 'BIRENDRA KUMAR SINHA',\n",
       "       'JAY VARDHAN YADAV ALIAS BACHCHA YADAV', 'RAMANAD PRASAD SINGH',\n",
       "       'GAYTRI DEVI', 'ASHOK KUMAR SINGH', 'CHANDRIKA RAI',\n",
       "       'PREMA CHAUDHARY', 'NAND KISHORE YADAV', 'GULJAR DEVI',\n",
       "       'SHYAM RAJAK', 'SHYAMBABU PRASAD YADAV', 'YADUBANSH KUMAR YADAV',\n",
       "       'RAM VILASH PASWAN', 'BINOD KUMAR SINGH', 'VIJAY KUMAR KHEMKA',\n",
       "       'TEJASHWI PRASAD YADAV', 'HARISHANKAR YADAV', 'SHIVCHANDRA RAM',\n",
       "       'PRAKASH VEER', 'RAVI JYOTI KUMAR', 'RAM PRIT PASWAN',\n",
       "       'SANTOSH KUMAR NIRALA', 'BHAGIRATHI DEVI', 'ACHMIT RISHIDEV',\n",
       "       'AJAY KUMAR SINGH', 'DR. ASHOK KUMAR', 'MANGITA DEVI',\n",
       "       'BIMA BHARTI', 'ARUN KUMAR', 'RAMVICHAR RAI', 'SHREENARAYAN YADAV',\n",
       "       'LAL BABU RAM', 'AKHTARUL ISLAM SHAHEEN', 'VIJAY KUMAR CHOUDHARY',\n",
       "       'RAHUL TIWARY', 'RANDHIR KUMAR SONI', 'SHARFUDDIN',\n",
       "       'VINOD PRASAD YADAV', 'SUDHIR KUMAR ALIAS BANTY CHOUDHARY',\n",
       "       'KHURSHID URF FIROJ AHMAD', 'VIJAY KUMAR MANDAL',\n",
       "       'DINESH CHANDRA YADAV', 'RAMESH RISHIDEV', 'SUNIL KUMAR',\n",
       "       'VYAS DEO PRASAD', 'RATNESH SADA', 'DR. RAMANUJ PRASAD',\n",
       "       'RAMCHANDRA SAHNI', 'SUBODH ROY', 'BIJENDRA PRASAD YADAV',\n",
       "       'SYED ABU DOJANA', 'PRAHLAD YADAV', 'MUDRIKA PRASAD ROY',\n",
       "       'M L CHOUDHARY', 'SUDAMA PRASAD', 'BIRENDRA KUMAR',\n",
       "       'NAUSHAD ALAM (TATPAUWA)', 'ABHAY KUMAR SINHA', 'VEENA BHARTI',\n",
       "       'ALOK KUMAR MEHTA', 'RAJ KISHORE SINGH',\n",
       "       'DHIRENDRA PRATAP SINGH ALIAS RINKU SINGH', 'ARUNA DEVI',\n",
       "       'AWADHESH KUMAR SINGH', 'RAMESH SINGH KUSHWAHA'], dtype=object)"
      ]
     },
     "execution_count": 197,
     "metadata": {},
     "output_type": "execute_result"
    }
   ],
   "source": [
    "9#List all candidates name without duplicates\n",
    "data['name'].unique()"
   ]
  },
  {
   "cell_type": "code",
   "execution_count": 218,
   "metadata": {},
   "outputs": [],
   "source": [
    "10#a graph to compare Bharatiya Janata Party and Aam Aadmi Party.\n",
    "\n",
    "#select only Bharatiya Janata Party\n",
    "bjp  = data[data['party'] == 'Bharatiya Janata Party']\n",
    "\n",
    "#select only Aam Aadmi Party\n",
    "aap  = data[data['party'] == 'Aam Aadmi Party']"
   ]
  },
  {
   "cell_type": "code",
   "execution_count": 228,
   "metadata": {},
   "outputs": [
    {
     "data": {
      "text/plain": [
       "Text(0,0.5,'votes')"
      ]
     },
     "execution_count": 228,
     "metadata": {},
     "output_type": "execute_result"
    },
    {
     "data": {
      "image/png": "[encoded data removed]",
      "text/plain": [
       "<Figure size 432x288 with 1 Axes>"
      ]
     },
     "metadata": {
      "needs_background": "light"
     },
     "output_type": "display_data"
    }
   ],
   "source": [
    "plt.plot(bjp.state, bjp.votes )\n",
    "plt.plot(aap.state, aap.votes )\n",
    "plt.legend(['Bharatiya Janata Party', 'Aam Aadmi Party'])\n",
    "plt.xlabel('state')\n",
    "plt.ylabel('votes')"
   ]
  },
  {
   "cell_type": "code",
   "execution_count": 389,
   "metadata": {},
   "outputs": [],
   "source": [
    "7#party has highest votes in Jammu & Kashmir\n",
    "JK = data[data['state'] == 'Jammu & Kashmir']"
   ]
  },
  {
   "cell_type": "code",
   "execution_count": 398,
   "metadata": {},
   "outputs": [
    {
     "data": {
      "text/plain": [
       "party    Jammu And Kashmir People Democratic Front (Sec...\n",
       "dtype: object"
      ]
     },
     "execution_count": 398,
     "metadata": {},
     "output_type": "execute_result"
    }
   ],
   "source": [
    "JK[['party']].max()"
   ]
  },
  {
   "cell_type": "code",
   "execution_count": 407,
   "metadata": {},
   "outputs": [
    {
     "data": {
      "text/plain": [
       "nan"
      ]
     },
     "execution_count": 407,
     "metadata": {},
     "output_type": "execute_result"
    }
   ],
   "source": [
    "6#Which party has highest margin\n",
    "party.margin.max()"
   ]
  },
  {
   "cell_type": "code",
   "execution_count": null,
   "metadata": {},
   "outputs": [],
   "source": [
    "8 # the candidate who has highest votes in Faridabad\n",
    "fd = data[data['constituency'] == 'Faridabad']\n"
   ]
  },
  {
   "cell_type": "code",
   "execution_count": 405,
   "metadata": {},
   "outputs": [
    {
     "data": {
      "text/html": [
       "<div>\n",
       "<style scoped>\n",
       "    .dataframe tbody tr th:only-of-type {\n",
       "        vertical-align: middle;\n",
       "    }\n",
       "\n",
       "    .dataframe tbody tr th {\n",
       "        vertical-align: top;\n",
       "    }\n",
       "\n",
       "    .dataframe thead th {\n",
       "        text-align: right;\n",
       "    }\n",
       "</style>\n",
       "<table border=\"1\" class=\"dataframe\">\n",
       "  <thead>\n",
       "    <tr style=\"text-align: right;\">\n",
       "      <th></th>\n",
       "      <th>party</th>\n",
       "      <th>constituency</th>\n",
       "      <th>name</th>\n",
       "      <th>margin</th>\n",
       "      <th>state</th>\n",
       "      <th>votes</th>\n",
       "      <th>color</th>\n",
       "    </tr>\n",
       "  </thead>\n",
       "  <tbody>\n",
       "    <tr>\n",
       "      <th>20</th>\n",
       "      <td>Bharatiya Janata Party</td>\n",
       "      <td>Faridabad</td>\n",
       "      <td>VIPUL GOEL</td>\n",
       "      <td>44781</td>\n",
       "      <td>Haryana</td>\n",
       "      <td>72679</td>\n",
       "      <td>#FB7B0D</td>\n",
       "    </tr>\n",
       "  </tbody>\n",
       "</table>\n",
       "</div>"
      ],
      "text/plain": [
       "                     party constituency        name  margin    state  votes  \\\n",
       "20  Bharatiya Janata Party    Faridabad  VIPUL GOEL   44781  Haryana  72679   \n",
       "\n",
       "      color  \n",
       "20  #FB7B0D  "
      ]
     },
     "execution_count": 405,
     "metadata": {},
     "output_type": "execute_result"
    }
   ],
   "source": [
    "fd"
   ]
  },
  {
   "cell_type": "code",
   "execution_count": null,
   "metadata": {},
   "outputs": [],
   "source": []
  },
  {
   "cell_type": "code",
   "execution_count": null,
   "metadata": {},
   "outputs": [],
   "source": []
  },
  {
   "cell_type": "code",
   "execution_count": null,
   "metadata": {},
   "outputs": [],
   "source": []
  }
 ],
 "metadata": {
  "kernelspec": {
   "display_name": "Python 3",
   "language": "python",
   "name": "python3"
  },
  "language_info": {
   "codemirror_mode": {
    "name": "ipython",
    "version": 3
   },
   "file_extension": ".py",
   "mimetype": "text/x-python",
   "name": "python",
   "nbconvert_exporter": "python",
   "pygments_lexer": "ipython3",
   "version": "3.7.0"
  }
 },
 "nbformat": 4,
 "nbformat_minor": 2
}
